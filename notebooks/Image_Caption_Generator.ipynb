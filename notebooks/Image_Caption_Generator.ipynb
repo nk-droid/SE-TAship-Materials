{
 "cells": [
  {
   "cell_type": "code",
   "execution_count": 1,
   "metadata": {},
   "outputs": [],
   "source": [
    "! pip install -q langchain_google_genai langchain_openai langchain"
   ]
  },
  {
   "cell_type": "code",
   "execution_count": 2,
   "metadata": {},
   "outputs": [
    {
     "data": {
      "text/plain": [
       "True"
      ]
     },
     "execution_count": 2,
     "metadata": {},
     "output_type": "execute_result"
    }
   ],
   "source": [
    "import base64\n",
    "import mimetypes\n",
    "\n",
    "from langchain_google_genai import ChatGoogleGenerativeAI\n",
    "from langchain_openai import ChatOpenAI\n",
    "\n",
    "from langchain.schema.messages import HumanMessage\n",
    "from langchain.output_parsers import PydanticOutputParser\n",
    "\n",
    "from pydantic import BaseModel, Field\n",
    "\n",
    "from dotenv import load_dotenv\n",
    "load_dotenv() "
   ]
  },
  {
   "cell_type": "code",
   "execution_count": 3,
   "metadata": {},
   "outputs": [],
   "source": [
    "def load_client(provider=\"openai\", model_id=\"gpt-4o\"):\n",
    "\n",
    "    if provider == \"google\":\n",
    "        return ChatGoogleGenerativeAI(\n",
    "            model=model_id\n",
    "        )\n",
    "\n",
    "    elif provider == \"openai\":\n",
    "        return ChatOpenAI(\n",
    "            model=model_id\n",
    "        )"
   ]
  },
  {
   "cell_type": "code",
   "execution_count": 4,
   "metadata": {},
   "outputs": [],
   "source": [
    "def encodeimg(img_path):\n",
    "    ext = img_path.split('.')[-1].lower()\n",
    "    mime_type = mimetypes.types_map.get(f'.{ext}', 'image/png')\n",
    "    with open(img_path, \"rb\") as file:\n",
    "        b64 = base64.b64encode(file.read()).decode('utf-8')\n",
    "        return f\"data:{mime_type};base64,{b64}\""
   ]
  },
  {
   "cell_type": "code",
   "execution_count": 5,
   "metadata": {},
   "outputs": [],
   "source": [
    "class CaptionSchema(BaseModel):\n",
    "    caption: str = Field(description=\"Image caption\")"
   ]
  },
  {
   "cell_type": "code",
   "execution_count": 6,
   "metadata": {},
   "outputs": [],
   "source": [
    "class ImageCaptionGenerator():\n",
    "    def __init__(self):\n",
    "        self.template = \"\"\"\n",
    "    You are an image caption generator. You will be provided with an image, generate a caption for it\n",
    "    in not more than 10 words.\n",
    "\"\"\"\n",
    "        self.model = load_client()\n",
    "        self.parser = PydanticOutputParser(pydantic_object=CaptionSchema)\n",
    "\n",
    "    def generate_caption(self, inputs):\n",
    "        content = [\n",
    "            {\n",
    "                \"type\": \"text\",\n",
    "                \"text\": self.template\n",
    "            },\n",
    "            {\n",
    "                \"type\": \"text\",\n",
    "                \"text\": self.parser.get_format_instructions()\n",
    "            },\n",
    "            {\n",
    "                \"type\": \"image_url\",\n",
    "                \"image_url\": {\n",
    "                    \"url\": encodeimg(inputs['img_path'])\n",
    "                }\n",
    "            }\n",
    "        ]\n",
    "\n",
    "        result = self.model.invoke(\n",
    "            [\n",
    "                HumanMessage(\n",
    "                    content = content\n",
    "                )\n",
    "            ]\n",
    "        )\n",
    "\n",
    "        return result.content\n",
    "    \n",
    "    def invoke_chain(self, img_path):\n",
    "        chain = self.generate_caption | self.parser\n",
    "        result = chain.invoke(\n",
    "            {\n",
    "                \"img_path\": img_path\n",
    "            }\n",
    "        )\n",
    "        return result.model_dump()"
   ]
  },
  {
   "cell_type": "code",
   "execution_count": 7,
   "metadata": {},
   "outputs": [
    {
     "data": {
      "text/plain": [
       "{'caption': 'Two playful puppies sitting among orange flowers.'}"
      ]
     },
     "execution_count": 7,
     "metadata": {},
     "output_type": "execute_result"
    }
   ],
   "source": [
    "img_path = \"../assets/sample_img.jpeg\"\n",
    "caption_generator = ImageCaptionGenerator()\n",
    "caption_generator.invoke_chain(img_path)"
   ]
  },
  {
   "cell_type": "code",
   "execution_count": null,
   "metadata": {},
   "outputs": [],
   "source": []
  }
 ],
 "metadata": {
  "kernelspec": {
   "display_name": "pytorch",
   "language": "python",
   "name": "python3"
  },
  "language_info": {
   "codemirror_mode": {
    "name": "ipython",
    "version": 3
   },
   "file_extension": ".py",
   "mimetype": "text/x-python",
   "name": "python",
   "nbconvert_exporter": "python",
   "pygments_lexer": "ipython3",
   "version": "3.11.7"
  }
 },
 "nbformat": 4,
 "nbformat_minor": 2
}
